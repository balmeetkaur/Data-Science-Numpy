{
 "cells": [
  {
   "cell_type": "markdown",
   "id": "a096bf41",
   "metadata": {},
   "source": [
    "## numpy : creating an array\n",
    "\n",
    "### from python structures like list, tuples etc"
   ]
  },
  {
   "cell_type": "code",
   "execution_count": 1,
   "id": "93826b0f",
   "metadata": {},
   "outputs": [
    {
     "name": "stdout",
     "output_type": "stream",
     "text": [
      "[1 2 3 4 5]\n",
      "<class 'numpy.ndarray'>\n"
     ]
    }
   ],
   "source": [
    "import numpy as np\n",
    "\n",
    "arr = np.array([1, 2, 3, 4, 5])\n",
    "\n",
    "print(arr)\n",
    "\n",
    "print(type(arr))  #types tells the typoe of object passed to it . here the array type ie. ndarray"
   ]
  },
  {
   "cell_type": "markdown",
   "id": "ab8ddb90",
   "metadata": {},
   "source": [
    "######  0D array  or Scalars : \n",
    " "
   ]
  },
  {
   "cell_type": "code",
   "execution_count": 2,
   "id": "05a077ec",
   "metadata": {},
   "outputs": [
    {
     "name": "stdout",
     "output_type": "stream",
     "text": [
      "42\n"
     ]
    }
   ],
   "source": [
    "import numpy as np\n",
    "\n",
    "arr = np.array(42)\n",
    "\n",
    "print(arr)"
   ]
  },
  {
   "cell_type": "markdown",
   "id": "cdb0eab1",
   "metadata": {},
   "source": [
    "###### 1-D Arrays\n",
    "An array that has 0-D arrays as its elements is called uni-dimensional or 1-D array."
   ]
  },
  {
   "cell_type": "code",
   "execution_count": 3,
   "id": "dba9ce95",
   "metadata": {},
   "outputs": [
    {
     "name": "stdout",
     "output_type": "stream",
     "text": [
      "[1 2 3 4 5]\n"
     ]
    }
   ],
   "source": [
    "# Create a 1-D array containing the values 1,2,3,4,5:\n",
    "\n",
    "import numpy as np\n",
    "\n",
    "arr = np.array([1, 2, 3, 4, 5])\n",
    "\n",
    "print(arr)"
   ]
  },
  {
   "cell_type": "markdown",
   "id": "73b4a3bf",
   "metadata": {},
   "source": [
    "###### 2-D Arrays\n",
    "An array that has 1-D arrays as its elements is called a 2-D array.\n",
    "\n",
    "These are often used to represent matrix or 2nd order tensors."
   ]
  },
  {
   "cell_type": "code",
   "execution_count": 4,
   "id": "4d9bb089",
   "metadata": {},
   "outputs": [
    {
     "name": "stdout",
     "output_type": "stream",
     "text": [
      "[[1 2 3]\n",
      " [4 5 6]]\n"
     ]
    }
   ],
   "source": [
    "#Create a 2-D array containing two arrays with the values 1,2,3 and 4,5,6:\n",
    "\n",
    "import numpy as np\n",
    "\n",
    "arr = np.array([[1, 2, 3], [4, 5, 6]])\n",
    "\n",
    "print(arr)"
   ]
  },
  {
   "cell_type": "markdown",
   "id": "95824b8b",
   "metadata": {},
   "source": [
    "###### 3-D arrays\n",
    "An array that has 2-D arrays (matrices) as its elements is called 3-D array.\n"
   ]
  },
  {
   "cell_type": "code",
   "execution_count": 5,
   "id": "fedf9a0a",
   "metadata": {},
   "outputs": [
    {
     "name": "stdout",
     "output_type": "stream",
     "text": [
      "[[[1 2 3]\n",
      "  [4 5 6]]\n",
      "\n",
      " [[1 2 3]\n",
      "  [4 5 6]]]\n"
     ]
    }
   ],
   "source": [
    "###### Create a 3-D array with two 2-D arrays, both containing two arrays with the values 1,2,3 and 4,5,6:\n",
    "\n",
    "import numpy as np\n",
    "\n",
    "arr = np.array([[[1, 2, 3], [4, 5, 6]], [[1, 2, 3], [4, 5, 6]]])\n",
    "\n",
    "print(arr)"
   ]
  },
  {
   "cell_type": "markdown",
   "id": "cb496ee2",
   "metadata": {},
   "source": [
    "##### Number of Dimensions in array:\n",
    "NumPy Arrays provides the ndim attribute that returns an integer that tells us how many dimensions the array have."
   ]
  },
  {
   "cell_type": "code",
   "execution_count": 6,
   "id": "ba6c4c51",
   "metadata": {},
   "outputs": [
    {
     "name": "stdout",
     "output_type": "stream",
     "text": [
      "0\n",
      "1\n",
      "2\n",
      "3\n"
     ]
    }
   ],
   "source": [
    "import numpy as np\n",
    "\n",
    "a = np.array(42)\n",
    "b = np.array([1, 2, 3, 4, 5])\n",
    "c = np.array([[1, 2, 3], [4, 5, 6]])\n",
    "d = np.array([[[1, 2, 3], [4, 5, 6]], [[1, 2, 3], [4, 5, 6]]])\n",
    "\n",
    "print(a.ndim)\n",
    "print(b.ndim)\n",
    "print(c.ndim)\n",
    "print(d.ndim)"
   ]
  },
  {
   "cell_type": "code",
   "execution_count": 7,
   "id": "c9ca48dd",
   "metadata": {},
   "outputs": [
    {
     "name": "stdout",
     "output_type": "stream",
     "text": [
      "[[[[[1 2 3 4]]]]]\n",
      "number of dimensions : 5\n"
     ]
    }
   ],
   "source": [
    "#Create an array with 5 dimensions and verify that it has 5 dimensions:\n",
    "\n",
    "import numpy as np\n",
    "\n",
    "arr = np.array([1, 2, 3, 4], ndmin=5)\n",
    "\n",
    "print(arr)\n",
    "print('number of dimensions :', arr.ndim)"
   ]
  },
  {
   "cell_type": "markdown",
   "id": "8e671fdc",
   "metadata": {},
   "source": [
    "###### Array indexing :\n",
    "\n",
    "\n",
    "You can access an array element by referring to its index number.\n",
    "\n",
    "The indexes in NumPy arrays start with 0, meaning that the first element has index 0, and the second has index 1 etc."
   ]
  },
  {
   "cell_type": "code",
   "execution_count": 8,
   "id": "0ae0cd69",
   "metadata": {},
   "outputs": [
    {
     "name": "stdout",
     "output_type": "stream",
     "text": [
      "1\n"
     ]
    }
   ],
   "source": [
    "##Get the first element from the following array:\n",
    "import numpy as np\n",
    "\n",
    "arr = np.array([1, 2, 3, 4])\n",
    "\n",
    "print(arr[0])"
   ]
  },
  {
   "cell_type": "code",
   "execution_count": 9,
   "id": "19a080aa",
   "metadata": {},
   "outputs": [
    {
     "name": "stdout",
     "output_type": "stream",
     "text": [
      "7\n"
     ]
    }
   ],
   "source": [
    "\n",
    "#Get the second element from the following array.\n",
    "import numpy as np\n",
    "\n",
    "arr = np.array([1, 2, 3, 4])\n",
    "\n",
    "print(arr[2] + arr[3])"
   ]
  },
  {
   "cell_type": "markdown",
   "id": "d883dcfc",
   "metadata": {},
   "source": [
    "###### Access 2-D Arrays\n",
    "To access elements from 2-D arrays we can use comma separated integers representing the dimension and the index of the element.\n",
    "\n",
    "Think of 2-D arrays like a table with rows and columns, where the row represents the dimension and the index represents the column.\n",
    "\n"
   ]
  },
  {
   "cell_type": "code",
   "execution_count": 10,
   "id": "7cd0e5ae",
   "metadata": {},
   "outputs": [
    {
     "name": "stdout",
     "output_type": "stream",
     "text": [
      "2nd element on 1st row:  2\n"
     ]
    }
   ],
   "source": [
    "#Access the second element from first row:\n",
    "\n",
    "import numpy as np\n",
    "\n",
    "arr = np.array([[1,2,3,4,5], [6,7,8,9,10]])\n",
    "\n",
    "print('2nd element on 1st row: ', arr[0, 1])"
   ]
  },
  {
   "cell_type": "code",
   "execution_count": 11,
   "id": "36d87cbd",
   "metadata": {},
   "outputs": [
    {
     "name": "stdout",
     "output_type": "stream",
     "text": [
      "5th element on 2nd row:  10\n",
      "5th element on 2nd row:  10\n"
     ]
    }
   ],
   "source": [
    "#Access the element on the 2nd row, 5th column:\n",
    "\n",
    "import numpy as np\n",
    "\n",
    "arr = np.array([[1,2,3,4,5], [6,7,8,9,10]])\n",
    "\n",
    "print('5th element on 2nd row: ', arr[1, 4])\n",
    "print('5th element on 2nd row: ', arr[1][4])"
   ]
  },
  {
   "cell_type": "code",
   "execution_count": 23,
   "id": "dcca08bf",
   "metadata": {},
   "outputs": [
    {
     "name": "stdout",
     "output_type": "stream",
     "text": [
      "[[13 15]\n",
      " [12 46]\n",
      " [ 0 90]]\n",
      "[[15 17]\n",
      " [46 89]]\n"
     ]
    }
   ],
   "source": [
    "\n",
    "import numpy as np\n",
    "a = np.array([[12,13,15,17],[45,12,46,89],[34,0,90,80]])\n",
    "print(a[:,1:3])   ## accessing elements of 1st and 2nd column of all rows \n",
    "print(a[0:2,2:4])  ## accessing elements of ist and 2nd row of columns 2nd and 3rd "
   ]
  },
  {
   "cell_type": "markdown",
   "id": "e332b65d",
   "metadata": {},
   "source": [
    "###### Access 3-D Arrays\n",
    "To access elements from 3-D arrays we can use comma separated integers representing the dimensions and the index of the element."
   ]
  },
  {
   "cell_type": "code",
   "execution_count": 12,
   "id": "2a9ba8c9",
   "metadata": {},
   "outputs": [
    {
     "name": "stdout",
     "output_type": "stream",
     "text": [
      "5\n"
     ]
    }
   ],
   "source": [
    "#Access the third element of the second array of the first array:\n",
    "\n",
    "import numpy as np\n",
    "\n",
    "arr = np.array([[[1, 2, 3], [4, 5, 6]], [[7, 8, 9], [10, 11, 12]]])\n",
    "\n",
    "print(arr[0][1][1])"
   ]
  },
  {
   "cell_type": "markdown",
   "id": "4c4b56ec",
   "metadata": {},
   "source": [
    "###### Below is a list of all data types in NumPy and the characters used to represent them.\n",
    "\n",
    "i - integer\n",
    "\n",
    "b - boolean\n",
    "\n",
    "u - unsigned integer\n",
    "\n",
    "\n",
    "f - float\n",
    "\n",
    "c - complex float\n",
    "\n",
    "m - timedelta\n",
    "\n",
    "\n",
    "M - datetime\n",
    "\n",
    "O - object\n",
    "\n",
    "S - string\n",
    "\n",
    "U - unicode string\n",
    "\n",
    "V - fixed chunk of memory for other type ( void )"
   ]
  },
  {
   "cell_type": "code",
   "execution_count": 13,
   "id": "956dc88d",
   "metadata": {},
   "outputs": [
    {
     "name": "stdout",
     "output_type": "stream",
     "text": [
      "int32\n"
     ]
    }
   ],
   "source": [
    "#Get the data type of an array object:\n",
    "\n",
    "import numpy as np\n",
    "\n",
    "arr = np.array([1, 2, 3, 4])\n",
    "\n",
    "print(arr.dtype)"
   ]
  },
  {
   "cell_type": "code",
   "execution_count": 14,
   "id": "8b626f02",
   "metadata": {},
   "outputs": [
    {
     "name": "stdout",
     "output_type": "stream",
     "text": [
      "<U6\n"
     ]
    }
   ],
   "source": [
    "#Get the data type of an array containing strings:\n",
    "\n",
    "import numpy as np\n",
    "\n",
    "arr = np.array(['apple', 'banana', 'cherry'])\n",
    "\n",
    "print(arr.dtype)"
   ]
  },
  {
   "cell_type": "code",
   "execution_count": 15,
   "id": "0b3075d0",
   "metadata": {},
   "outputs": [
    {
     "name": "stdout",
     "output_type": "stream",
     "text": [
      "[b'1' b'2' b'3' b'4']\n",
      "|S1\n"
     ]
    }
   ],
   "source": [
    "#Create an array with data type string:\n",
    "\n",
    "import numpy as np\n",
    "\n",
    "arr = np.array([1, 2, 3, 4], dtype='S')\n",
    "\n",
    "print(arr)\n",
    "print(arr.dtype)"
   ]
  },
  {
   "cell_type": "code",
   "execution_count": 16,
   "id": "f5d3349d",
   "metadata": {},
   "outputs": [
    {
     "name": "stdout",
     "output_type": "stream",
     "text": [
      "[1 2 3 4]\n",
      "int32\n"
     ]
    }
   ],
   "source": [
    "#Create an array with data type 4 bytes integer:\n",
    "\n",
    "import numpy as np\n",
    "\n",
    "arr = np.array([1, 2, 3, 4], dtype='i4')\n",
    "\n",
    "print(arr)\n",
    "print(arr.dtype)"
   ]
  },
  {
   "cell_type": "code",
   "execution_count": 17,
   "id": "0be0f14e",
   "metadata": {},
   "outputs": [
    {
     "ename": "ValueError",
     "evalue": "invalid literal for int() with base 10: 'a'",
     "output_type": "error",
     "traceback": [
      "\u001b[1;31m---------------------------------------------------------------------------\u001b[0m",
      "\u001b[1;31mValueError\u001b[0m                                Traceback (most recent call last)",
      "\u001b[1;32m~\\AppData\\Local\\Temp/ipykernel_12272/777901744.py\u001b[0m in \u001b[0;36m<module>\u001b[1;34m\u001b[0m\n\u001b[0;32m      3\u001b[0m \u001b[1;32mimport\u001b[0m \u001b[0mnumpy\u001b[0m \u001b[1;32mas\u001b[0m \u001b[0mnp\u001b[0m\u001b[1;33m\u001b[0m\u001b[1;33m\u001b[0m\u001b[0m\n\u001b[0;32m      4\u001b[0m \u001b[1;33m\u001b[0m\u001b[0m\n\u001b[1;32m----> 5\u001b[1;33m \u001b[0marr\u001b[0m \u001b[1;33m=\u001b[0m \u001b[0mnp\u001b[0m\u001b[1;33m.\u001b[0m\u001b[0marray\u001b[0m\u001b[1;33m(\u001b[0m\u001b[1;33m[\u001b[0m\u001b[1;34m'a'\u001b[0m\u001b[1;33m,\u001b[0m \u001b[1;34m'2'\u001b[0m\u001b[1;33m,\u001b[0m \u001b[1;34m'3'\u001b[0m\u001b[1;33m]\u001b[0m\u001b[1;33m,\u001b[0m \u001b[0mdtype\u001b[0m\u001b[1;33m=\u001b[0m\u001b[1;34m'i'\u001b[0m\u001b[1;33m)\u001b[0m\u001b[1;33m\u001b[0m\u001b[1;33m\u001b[0m\u001b[0m\n\u001b[0m",
      "\u001b[1;31mValueError\u001b[0m: invalid literal for int() with base 10: 'a'"
     ]
    }
   ],
   "source": [
    "#Example A non integer string like 'a' can not be converted to integer (will raise an error):\n",
    "\n",
    "import numpy as np\n",
    "\n",
    "arr = np.array(['a', '2', '3'], dtype='i')\n"
   ]
  },
  {
   "cell_type": "code",
   "execution_count": null,
   "id": "40f17f43",
   "metadata": {},
   "outputs": [],
   "source": [
    "#Change data type from float to integer by using 'i' as parameter value:\n",
    "\n",
    "import numpy as np\n",
    "\n",
    "arr = np.array([1.1, 2.1, 3.1])\n",
    "\n",
    "newarr = arr.astype('i')   # ASTYPE CREATES THE COPY OF THE ARRAY\n",
    "\n",
    "print(newarr)\n",
    "print(newarr.dtype)\n",
    "print(arr)"
   ]
  },
  {
   "cell_type": "markdown",
   "id": "82add50e",
   "metadata": {},
   "source": [
    "###### shape of the array: The shape of an array can be defined as the number of elements in each dimension.\n",
    "syntax: numpy.shape(array_name)\n",
    "Parameters: Array is passed as a Parameter.\n",
    "Return: A tuple whose elements give the lengths of the corresponding array dimensions."
   ]
  },
  {
   "cell_type": "code",
   "execution_count": null,
   "id": "20c6dc92",
   "metadata": {},
   "outputs": [],
   "source": [
    "import numpy as npy\n",
    "\n",
    "a=np.array([1,2,3])\n",
    "print(a.shape)\n",
    "  \n",
    "# creating a 2-d array\n",
    "arr1 = np.array([[1, 3, 5, 7], [2, 4, 6, 8]])\n",
    "  \n",
    "# creating a 2-d array\n",
    "arr2 = np.array([[1, 3, 5, 7], [2, 4, 6, 8], \n",
    "                  [3, 6, 9, 12]])\n",
    "arr3=np.array([[[1,2],[34,56]],[[23,67],[56,89]]])\n",
    "arr4 = np.array([[1, 3, 5, 7]])\n",
    "print(arr1.shape)\n",
    "print(arr2.shape)\n",
    "print(arr3.shape)\n",
    "print(arr4.shape)\n",
    "arr5=np.array([[[1,2],[34,56]]])\n",
    "print(arr5.shape)"
   ]
  },
  {
   "cell_type": "code",
   "execution_count": null,
   "id": "25c412cc",
   "metadata": {},
   "outputs": [],
   "source": [
    "import numpy as npy\n",
    "  \n",
    "# creating an array of 6 dimension\n",
    "# using ndim\n",
    "arr = npy.array([2, 4, 6, 8, 10], ndmin=6)\n",
    "  \n",
    "# printing array\n",
    "print(arr)\n",
    "  \n",
    "# verifying the value of last dimension\n",
    "# as 5\n",
    "print('shape of an array :', arr.shape)"
   ]
  },
  {
   "cell_type": "markdown",
   "id": "0cfc71ca",
   "metadata": {},
   "source": [
    "##### Rank :- no of dimesnions or ndim"
   ]
  },
  {
   "cell_type": "markdown",
   "id": "96207ed7",
   "metadata": {},
   "source": [
    "##### size of array : returns the no of elements  along the axis:\n",
    "\n",
    "Syntax: numpy.size(arr, axis=None)\n",
    "Parameters: \n",
    "arr: [array_like] Input data. \n",
    "axis: [int, optional] Axis(x,y,z) along which the elements(rows or columns) are counted. By default, give the total number of elements in a array\n",
    "Returns: [int] Return the number of elements along a given axis. "
   ]
  },
  {
   "cell_type": "code",
   "execution_count": null,
   "id": "fb0cf108",
   "metadata": {},
   "outputs": [],
   "source": [
    "# Python program explaining\n",
    "# numpy.size() method\n",
    " \n",
    "# importing numpy\n",
    "import numpy as np\n",
    " \n",
    "# Making a random array\n",
    "arr = np.array([[1, 2, 3, 4], [5, 6, 7, 8]])\n",
    " \n",
    "# By default, give the total number of elements.\n",
    "print(np.size(arr))"
   ]
  },
  {
   "cell_type": "code",
   "execution_count": null,
   "id": "523ca714",
   "metadata": {},
   "outputs": [],
   "source": [
    "\n",
    " \n",
    "# importing numpy\n",
    "import numpy as np\n",
    " \n",
    "# Making a random array\n",
    "arr = np.array([[1, 2, 3, 4], [5, 6, 7, 8]])\n",
    " \n",
    "# count the number of elements along the axis.\n",
    "# Here rows and columns are being treated\n",
    "# as elements\n",
    " \n",
    "#gives no. of rows along x-axis\n",
    "print(np.size(arr, 0))\n",
    " \n",
    "#gives no. of columns along y-axis\n",
    "print(np.size(arr, 1))"
   ]
  },
  {
   "cell_type": "code",
   "execution_count": null,
   "id": "bfb895cf",
   "metadata": {},
   "outputs": [],
   "source": [
    "import numpy as np\n",
    "a=np.array([1,2,3])\n",
    "arr1 = np.array([[1, 3, 5, 7], [2, 4, 6, 8]])\n",
    "arr2 = np.array([[1, 3, 5, 7], [2, 4, 6, 8], [3, 6, 9, 12]])\n",
    "arr3=np.array([[[1,2],[34,56]],[[23,67],[56,89]]])\n",
    "arr4 = np.array([[1, 3, 5, 7]])\n",
    "arr5=np.array([[[1,2],[34,56]]])\n",
    "arr6=np.array([[[[[[12,3]]]]]])\n",
    "print(np.size(a,0))\n",
    "print(np.size(a))\n",
    "print(np.size(arr1,0))\n",
    "print(np.size(arr1,1))\n",
    "print(np.size(arr2,0))\n",
    "print(np.size(arr2,1))\n",
    "print(np.size(arr3,0))\n",
    "print(np.size(arr3,1))\n",
    "print(np.size(arr3,2))\n",
    "print(np.size(arr4,0))\n",
    "print(np.size(arr4,1))\n",
    "print(np.size(arr6,0))\n",
    "print(np.size(arr6,5))\n",
    "print(np.size(arr3))"
   ]
  },
  {
   "cell_type": "markdown",
   "id": "d1397cdc",
   "metadata": {},
   "source": [
    "###### copy and view \n",
    "The main difference between a copy and a view of an array is that the copy is a new array, and the view is just a view of the original array.\n",
    "\n",
    "The copy owns the data and any changes made to the copy will not affect original array, and any changes made to the original array will not affect the copy.\n",
    "\n",
    "The view does not own the data and any changes made to the view will affect the original array, and any changes made to the original array will affect the view."
   ]
  },
  {
   "cell_type": "code",
   "execution_count": null,
   "id": "28340857",
   "metadata": {},
   "outputs": [],
   "source": [
    "## copy\n",
    "\n",
    "import numpy as np\n",
    "\n",
    "a = np.array([1, 2, 3, 4, 5])\n",
    "a_c = a.copy()\n",
    "print(a)\n",
    "print(a_c)\n",
    "a_c[2]=9\n",
    "print(\"3rd value of copied array is changed: \",a_c)\n",
    "print(\"original array remains same  :\",a)"
   ]
  },
  {
   "cell_type": "code",
   "execution_count": null,
   "id": "d6b74a91",
   "metadata": {},
   "outputs": [],
   "source": [
    "## view \n",
    "import numpy as np\n",
    "\n",
    "a = np.array([1, 2, 3, 4, 5])\n",
    "a_c = a.view()\n",
    "print(a)\n",
    "print(a_c)\n",
    "a_c[2]=9\n",
    "print(\"3rd value of viewed array is changed: \",a_c)\n",
    "print(\"original array becomes altered  same as new change  :\",a)"
   ]
  },
  {
   "cell_type": "markdown",
   "id": "28ab4b1f",
   "metadata": {},
   "source": [
    "###### reshape and resize\n",
    "Both the numpy.reshape() and numpy.resize() methods are used to change the size of a NumPy array. The difference between them is that the reshape() does not changes the original array but only returns the changed array, whereas the resize() method returns nothing and directly changes the original array."
   ]
  },
  {
   "cell_type": "code",
   "execution_count": null,
   "id": "3f6d4225",
   "metadata": {},
   "outputs": [],
   "source": [
    "import numpy as np \n",
    "    \n",
    "# creating an array \n",
    "a = np.array([1, 2, 3, 4, 5, 6]) \n",
    "print(\"Orignal array:\")\n",
    "display(a)  \n",
    "a1=a.reshape(2, 3)  \n",
    "# using reshape()\n",
    "print(\"Changed array\")\n",
    "display(a1) \n",
    "    \n",
    "print(\"Original array:\")\n",
    "display(a)"
   ]
  },
  {
   "cell_type": "code",
   "execution_count": null,
   "id": "34cb9001",
   "metadata": {},
   "outputs": [],
   "source": [
    "#resize\n",
    "# importing the module\n",
    "import numpy as np \n",
    "    \n",
    "# creating an array \n",
    "a = np.array([1, 2, 3, 4, 5, 6]) \n",
    "print(\"Original array:\")\n",
    "display(a)  \n",
    "a1=a.resize(2, 3) \n",
    "# using resize()\n",
    "print(\"Changed array\")\n",
    "# this will print nothing as None is returned\n",
    "display(a1) \n",
    "    \n",
    "print(\"Original array:\")\n",
    "display(a)"
   ]
  },
  {
   "cell_type": "code",
   "execution_count": null,
   "id": "86dc18be",
   "metadata": {},
   "outputs": [],
   "source": [
    "#Convert the following 1-D array with 12 elements into a 2-D array.\n",
    "\n",
    "#The outermost dimension will have 4 arrays, each with 3 elements:import numpy as np\n",
    "\n",
    "arr = np.array([1, 2, 3, 4, 5, 6, 7, 8, 9, 10, 11, 12])\n",
    "\n",
    "newarr = arr.reshape(4, 3)\n",
    "\n",
    "print(newarr)\n"
   ]
  },
  {
   "cell_type": "code",
   "execution_count": null,
   "id": "6261eb19",
   "metadata": {},
   "outputs": [],
   "source": [
    "#Convert the following 1-D array with 12 elements into a 3-D array.\n",
    "\n",
    "#The outermost dimension will have 2 arrays that contains 3 arrays, each with 2 elements:import numpy as np\n",
    "\n",
    "arr = np.array([1, 2, 3, 4, 5, 6, 7, 8, 9, 10, 11, 12])\n",
    "\n",
    "newarr = arr.reshape(2, 3, 2)\n",
    "\n",
    "print(newarr)"
   ]
  },
  {
   "cell_type": "markdown",
   "id": "e290f7cc",
   "metadata": {},
   "source": [
    "##### Can We Reshape Into any Shape?\n",
    "Yes, as long as the elements required for reshaping are equal in both shapes.\n",
    "\n",
    "We can reshape an 8 elements 1D array into 4 elements in 2 rows 2D array but we cannot reshape it into a 3 elements 3 rows 2D array as that would require 3x3 = 9 elements.  here elements would be different so no reshaping can be possible"
   ]
  },
  {
   "cell_type": "markdown",
   "id": "d111b524",
   "metadata": {},
   "source": [
    "###### Unknown Dimension\n",
    "You are allowed to have one \"unknown\" dimension.\n",
    "\n",
    "Meaning that you do not have to specify an exact number for one of the dimensions in the reshape method.\n",
    "\n",
    "Pass -1 as the value, and NumPy will calculate this number for you."
   ]
  },
  {
   "cell_type": "code",
   "execution_count": null,
   "id": "235a4537",
   "metadata": {},
   "outputs": [],
   "source": [
    "#Convert 1D array with 8 elements to 3D array with 2x2 elements:\n",
    "\n",
    "import numpy as np\n",
    "\n",
    "arr = np.array([1, 2, 3, 4, 5, 6, 7, 8])\n",
    "\n",
    "newarr = arr.reshape(2, 2, -1)\n",
    "\n",
    "\n",
    "print(newarr)\n"
   ]
  },
  {
   "cell_type": "code",
   "execution_count": null,
   "id": "fe1801d7",
   "metadata": {},
   "outputs": [],
   "source": [
    "#Convert 1D array with 8 elements to 3D array with 2x2 elements:\n",
    "\n",
    "import numpy as np\n",
    "\n",
    "arr = np.array([1, 2, 3, 4, 5, 6, 7, 8])\n",
    "\n",
    "newarr = arr.reshape(2, -1, 2)\n",
    "\n",
    "\n",
    "print(newarr)"
   ]
  },
  {
   "cell_type": "markdown",
   "id": "a9c95c7b",
   "metadata": {},
   "source": [
    "#####  We can not pass -1 to more than one dimension."
   ]
  },
  {
   "cell_type": "markdown",
   "id": "0c24d7b6",
   "metadata": {},
   "source": [
    "##### Flattening the arrays\n",
    "Flattening array means converting a multidimensional array into a 1D array.\n",
    "\n",
    "nd array to 1d array :\n",
    "\n",
    "\n",
    "1- reshape(-1)   \n",
    "2- flatten()\n",
    "3-ravel()"
   ]
  },
  {
   "cell_type": "code",
   "execution_count": null,
   "id": "3f677df4",
   "metadata": {},
   "outputs": [],
   "source": [
    "#reshape and flatten \n",
    "import numpy as np\n",
    "\n",
    "arr = np.array([[1, 2, 3], [4, 5, 6]])\n",
    "print(\"original array is \",arr)\n",
    "\n",
    "a1 = arr.reshape(-1)\n",
    "print(\"1 D array :  \",a1)\n",
    "print(\"original array remains same \",arr)\n",
    "a2 = arr.flatten()\n",
    "print(\"1 D array :  \",a2)\n",
    "print(\"original array remains same  \",arr)\n"
   ]
  },
  {
   "cell_type": "code",
   "execution_count": null,
   "id": "24993ac6",
   "metadata": {},
   "outputs": [],
   "source": [
    "\n",
    "\n",
    "import numpy as np\n",
    "\n",
    "arr = np.array([[1, 2, 3], [4, 5, 6]])\n",
    "print(\"original array is \",arr)\n",
    "a2 = arr.ravel()\n",
    "print(\"1 D array :  \",a2)\n",
    "print(\"original array changed  \",arr)"
   ]
  },
  {
   "cell_type": "markdown",
   "id": "72464f64",
   "metadata": {},
   "source": [
    "##### arange "
   ]
  },
  {
   "cell_type": "markdown",
   "id": "a46d0979",
   "metadata": {},
   "source": [
    "###### The arange([start,] stop[, step,][, dtype]) : Returns an array with evenly spaced elements as per the interval. The interval mentioned is half-opened i.e. [Start, Stop) \n",
    "\n",
    "Parameters : \n",
    "\n",
    "start : [optional] start of interval range. By default start = 0\n",
    "stop  : end of interval range\n",
    "step  : [optional] step size of interval. By default step size = 1,  \n",
    "For any output out, this is the distance between two adjacent values, out[i+1] - out[i]. \n",
    "dtype : type of output array\n",
    "Return: \n",
    "\n",
    "Array of evenly spaced values.\n",
    "Length of array being generated  = Ceil((Stop - Start) / Step) "
   ]
  },
  {
   "cell_type": "code",
   "execution_count": null,
   "id": "72ac5f23",
   "metadata": {},
   "outputs": [],
   "source": [
    "import numpy as np\n",
    "a=np.arange(1,11)\n",
    "print(a)\n",
    "a1=np.arange(1,11,2)\n",
    "print(a1)\n",
    "a2=np.arange(1.1,11.2,0.2)\n",
    "print(a2)"
   ]
  },
  {
   "cell_type": "markdown",
   "id": "fe6e1fa8",
   "metadata": {},
   "source": [
    "##### Empty Array - Using numpy.empty\n",
    "This is used to create an uninitialized array of specified shape and dtype.\n",
    "\n",
    "The syntax to use this constructor is as follows:\n",
    "\n",
    "numpy.empty(shape, dtype, order)  \n",
    "Following is a description of parameters by this constructor:\n",
    "\n",
    "shape: This parameter is used to indicate the desired shape of the specified array.\n",
    "\n",
    "dtype: This parameter indicates the data type of the array items. The default value of this parameter is float.\n",
    "\n",
    "order: The default order or value of this option is the c-style row-major order. This parameter can be set to F for FORTRAN-style (column-major order)"
   ]
  },
  {
   "cell_type": "code",
   "execution_count": null,
   "id": "113fb2a6",
   "metadata": {},
   "outputs": [],
   "source": [
    "import numpy as np \n",
    "\n",
    "# an array with 4 rows and 3 columns\n",
    "x = np.empty([4,3], dtype = int) \n",
    "print (x)  # shows random values in array"
   ]
  },
  {
   "cell_type": "code",
   "execution_count": null,
   "id": "dcd10957",
   "metadata": {},
   "outputs": [],
   "source": [
    "import numpy as np \n",
    "\n",
    "# an array with 2 elements\n",
    "x = np.empty(4, dtype = int) \n",
    "print (x)  # shows ra"
   ]
  },
  {
   "cell_type": "markdown",
   "id": "f12991f7",
   "metadata": {},
   "source": [
    "##### Zero Value Array - Using numpy.zeroes\n",
    "This is used to return a new array of the specified size and each array item will be initialized with 0.\n",
    "\n",
    "The syntax to use this constructor is as follows:\n",
    "\n",
    "numpy.zeros(shape, dtype, order)  "
   ]
  },
  {
   "cell_type": "code",
   "execution_count": null,
   "id": "d1db9143",
   "metadata": {},
   "outputs": [],
   "source": [
    "import numpy as np  \n",
    "\n",
    "arr = np.zeros((3,3), dtype = int)  \n",
    "print(arr)"
   ]
  },
  {
   "cell_type": "markdown",
   "id": "170b7d3f",
   "metadata": {},
   "source": [
    "##### One Value Array - Using numpy.ones\n",
    "This is used to return a new array of the specified size and each array item will be initialized as 1.\n",
    "\n",
    "The syntax to use this constructor is as follows:\n",
    "\n",
    "numpy.ones(shape, dtype, order)  "
   ]
  },
  {
   "cell_type": "code",
   "execution_count": null,
   "id": "50a77452",
   "metadata": {},
   "outputs": [],
   "source": [
    "import numpy as np  \n",
    "\n",
    "arr = np.ones((3,3), dtype = int)  \n",
    "print(arr) "
   ]
  },
  {
   "cell_type": "code",
   "execution_count": null,
   "id": "d08bb4fd",
   "metadata": {},
   "outputs": [],
   "source": [
    "import numpy as np\n",
    "distance=[2,3,4,5]\n",
    "time=[4,6,7,8]\n",
    "d=np.array(distance)\n",
    "t=np.array(time)\n",
    "s=d/t\n",
    "print(s)"
   ]
  },
  {
   "cell_type": "code",
   "execution_count": 19,
   "id": "16cee180",
   "metadata": {},
   "outputs": [
    {
     "data": {
      "text/plain": [
       "6"
      ]
     },
     "execution_count": 19,
     "metadata": {},
     "output_type": "execute_result"
    }
   ],
   "source": [
    "#TRACE : sum of diagnal elements\n",
    "import numpy as np\n",
    "a=np.array([[1,2,3],[4,5,6]])\n",
    "np.trace(a)"
   ]
  },
  {
   "cell_type": "code",
   "execution_count": 20,
   "id": "210102af",
   "metadata": {},
   "outputs": [
    {
     "name": "stdout",
     "output_type": "stream",
     "text": [
      "[1 2 3]\n",
      "dimension is   1\n",
      "shape is  (3,) \n",
      "\n",
      "[[1 2 3]\n",
      " [2 3 4]]\n",
      "dimension is  2\n",
      "shape is  (2, 3) \n",
      "\n",
      "[[[1 2 3]\n",
      "  [2 3 4]]]\n",
      "dimension is  3\n",
      "shape is   (1, 2, 3) \n",
      "\n",
      "[[[[1 2 3]\n",
      "   [2 3 4]]]]\n",
      "dimension is  4\n",
      "shape is   (1, 1, 2, 3)\n",
      "[[[ 1  2  3]\n",
      "  [ 4  5  6]\n",
      "  [ 7  8  9]]\n",
      "\n",
      " [[ 1  4  7]\n",
      "  [ 2  3  5]\n",
      "  [ 7  8 10]]]\n",
      "dimension is  3\n",
      "shape is  (2, 3, 3)\n"
     ]
    }
   ],
   "source": [
    "import numpy as np\n",
    "a=np.array([1,2,3])\n",
    "print(a)\n",
    "print(\"dimension is  \",a.ndim)\n",
    "print(\"shape is \",a.shape,\"\\n\")\n",
    "a=np.array([[1,2,3],[2,3,4]])\n",
    "print(a)\n",
    "print(\"dimension is \",a.ndim)\n",
    "print(\"shape is \",a.shape,\"\\n\")\n",
    "a1=np.array([[[1,2,3],[2,3,4]]])\n",
    "print(a1)\n",
    "print(\"dimension is \",a1.ndim)\n",
    "print(\"shape is  \",a1.shape,\"\\n\")\n",
    "a2=np.array([[[[1,2,3],[2,3,4]]]])\n",
    "print(a2\n",
    "     )\n",
    "print(\"dimension is \",a2.ndim)\n",
    "print(\"shape is  \",a2.shape)\n",
    "a3 = np.array([[[1,2,3],[4,5,6],[7,8,9]],[[1,4,7],[2,3,5],[7,8,10]]])\n",
    "print(a3)\n",
    "print(\"dimension is \",a3.ndim)\n",
    "print(\"shape is \",a3.shape)"
   ]
  },
  {
   "cell_type": "markdown",
   "id": "a6bcf7a0",
   "metadata": {},
   "source": [
    "#### identity matrix : method eye()"
   ]
  },
  {
   "cell_type": "code",
   "execution_count": 25,
   "id": "ee17765d",
   "metadata": {},
   "outputs": [
    {
     "name": "stdout",
     "output_type": "stream",
     "text": [
      "identity matrix is :\n",
      "  [[1. 0. 0.]\n",
      " [0. 1. 0.]\n",
      " [0. 0. 1.]] \n",
      " and its shape is  (3, 3)\n"
     ]
    }
   ],
   "source": [
    "import numpy as np\n",
    "i=np.eye(3,k=0)    # here 3 is 3*3 k is used to write one based on its value if k=0 it writes one on diagnal element\n",
    "print(\"identity matrix is :\\n \",i,\"\\n and its shape is \",i.shape)"
   ]
  },
  {
   "cell_type": "code",
   "execution_count": 26,
   "id": "3638aae2",
   "metadata": {},
   "outputs": [
    {
     "name": "stdout",
     "output_type": "stream",
     "text": [
      "identity matrix is :\n",
      "  [[0. 1. 0. 0.]\n",
      " [0. 0. 1. 0.]\n",
      " [0. 0. 0. 1.]\n",
      " [0. 0. 0. 0.]] \n",
      " and its shape is  (4, 4)\n"
     ]
    }
   ],
   "source": [
    "import numpy as np\n",
    "i=np.eye(4,k=1)    # here k is used to write one based on its value if k=1 it writes one on the diagnal element on  first upper of the diagonal\n",
    "print(\"identity matrix is :\\n \",i,\"\\n and its shape is \",i.shape)"
   ]
  },
  {
   "cell_type": "code",
   "execution_count": 27,
   "id": "541c841c",
   "metadata": {},
   "outputs": [
    {
     "name": "stdout",
     "output_type": "stream",
     "text": [
      "identity matrix is :\n",
      "  [[0. 0. 1. 0.]\n",
      " [0. 0. 0. 1.]\n",
      " [0. 0. 0. 0.]\n",
      " [0. 0. 0. 0.]] \n",
      " and its shape is  (4, 4)\n"
     ]
    }
   ],
   "source": [
    "import numpy as np\n",
    "i=np.eye(4,k=2)    # here k is used to write one based on its value if k=2 it writes one on the diagnal element on second upper of the diagonal\n",
    "print(\"identity matrix is :\\n \",i,\"\\n and its shape is \",i.shape)"
   ]
  },
  {
   "cell_type": "code",
   "execution_count": 28,
   "id": "685b0492",
   "metadata": {},
   "outputs": [
    {
     "name": "stdout",
     "output_type": "stream",
     "text": [
      "identity matrix is :\n",
      "  [[0. 0. 0. 0.]\n",
      " [1. 0. 0. 0.]\n",
      " [0. 1. 0. 0.]\n",
      " [0. 0. 1. 0.]] \n",
      " and its shape is  (4, 4)\n"
     ]
    }
   ],
   "source": [
    "import numpy as np\n",
    "i=np.eye(4,k=-1)    # here k is used to write one based on its value if k=-1 it writes one on the diagnal element on first below of the diagonal\n",
    "print(\"identity matrix is :\\n \",i,\"\\n and its shape is \",i.shape)"
   ]
  },
  {
   "cell_type": "code",
   "execution_count": 29,
   "id": "d71d1180",
   "metadata": {},
   "outputs": [
    {
     "name": "stdout",
     "output_type": "stream",
     "text": [
      "identity matrix is :\n",
      "  [[0. 0. 0. 0.]\n",
      " [0. 0. 0. 0.]\n",
      " [1. 0. 0. 0.]\n",
      " [0. 1. 0. 0.]] \n",
      " and its shape is  (4, 4)\n"
     ]
    }
   ],
   "source": [
    "import numpy as np\n",
    "i=np.eye(4,k=-2)    # here k is used to write one based on its value if k=-2 it writes one on the diagnal element on second below of the diagonal\n",
    "print(\"identity matrix is :\\n \",i,\"\\n and its shape is \",i.shape)"
   ]
  },
  {
   "cell_type": "markdown",
   "id": "6667cc3f",
   "metadata": {},
   "source": [
    "##### extarct diagonal elements and construct diagonal array : np.diag()"
   ]
  },
  {
   "cell_type": "code",
   "execution_count": 30,
   "id": "291a8656",
   "metadata": {},
   "outputs": [
    {
     "name": "stdout",
     "output_type": "stream",
     "text": [
      "[[1 2 3]\n",
      " [4 5 6]]\n",
      "diagonal elements are :  [1 5]\n"
     ]
    }
   ],
   "source": [
    "# fetching diagonal elements \n",
    "import numpy as np\n",
    "a=np.array([[1,2,3],[4,5,6]])\n",
    "print(a)\n",
    "print(\"diagonal elements are : \",np.diag(a))   \n"
   ]
  },
  {
   "cell_type": "code",
   "execution_count": 31,
   "id": "46f5f43e",
   "metadata": {},
   "outputs": [
    {
     "name": "stdout",
     "output_type": "stream",
     "text": [
      "[[1 2 3]\n",
      " [4 5 6]\n",
      " [7 8 9]]\n",
      "diagonal elements are :  [2 6]\n"
     ]
    }
   ],
   "source": [
    "# fetching diagonal elements of upper triangle \n",
    "import numpy as np\n",
    "a=np.array([[1,2,3],[4,5,6],[7,8,9]])\n",
    "print(a)\n",
    "print(\"diagonal elements are : \",np.diag(a,k=1))   \n"
   ]
  },
  {
   "cell_type": "code",
   "execution_count": 32,
   "id": "12ee378c",
   "metadata": {},
   "outputs": [
    {
     "name": "stdout",
     "output_type": "stream",
     "text": [
      "[[1 2 3]\n",
      " [4 5 6]\n",
      " [7 8 9]]\n",
      "diagonal elements are :  [4 8]\n"
     ]
    }
   ],
   "source": [
    "# fetching diagonal elements of lower  triangle \n",
    "import numpy as np\n",
    "a=np.array([[1,2,3],[4,5,6],[7,8,9]])\n",
    "print(a)\n",
    "print(\"diagonal elements are : \",np.diag(a,k=-1)) "
   ]
  },
  {
   "cell_type": "code",
   "execution_count": 33,
   "id": "80c6b61c",
   "metadata": {},
   "outputs": [
    {
     "name": "stdout",
     "output_type": "stream",
     "text": [
      "[[1 2 3]\n",
      " [4 5 6]\n",
      " [7 8 9]]\n",
      "diagonal elements are :  [1 5 9]\n",
      "diagonal array : \n",
      " [[1 0 0]\n",
      " [0 5 0]\n",
      " [0 0 9]]\n"
     ]
    }
   ],
   "source": [
    "# constructing diagonal array of  diagonal elements \n",
    "import numpy as np\n",
    "a=np.array([[1,2,3],[4,5,6],[7,8,9]])\n",
    "print(a)\n",
    "diag_ele=np.diag(a)\n",
    "print(\"diagonal elements are : \",diag_ele)\n",
    "print(\"diagonal array : \\n\",np.diag(diag_ele))  "
   ]
  },
  {
   "cell_type": "code",
   "execution_count": null,
   "id": "5b819c98",
   "metadata": {},
   "outputs": [],
   "source": [
    "### diagflat : for creating diagonal array means the element is to be placed diagonally based on the value of k\n",
    "import numpy as np\n",
    "a1=np.diagflat([1,2,3],k=0)\n",
    "print(a1)\n",
    "a2=np.diagflat([1,2,3,4],k=-1)\n",
    "print(\"\\n \",a2)\n"
   ]
  },
  {
   "cell_type": "markdown",
   "id": "a84fe73d",
   "metadata": {},
   "source": [
    "#### tri , triu and tril "
   ]
  },
  {
   "cell_type": "code",
   "execution_count": 34,
   "id": "e98bf132",
   "metadata": {},
   "outputs": [
    {
     "name": "stdout",
     "output_type": "stream",
     "text": [
      "[[1 0 0]\n",
      " [1 1 0]\n",
      " [1 1 1]]\n",
      "\n",
      " [[0 0 0]\n",
      " [1 0 0]\n",
      " [1 1 0]]\n",
      "\n",
      " [[0 0 0]\n",
      " [0 0 0]\n",
      " [1 0 0]]\n",
      "\n",
      " [[1 1 0]\n",
      " [1 1 1]\n",
      " [1 1 1]]\n",
      "\n",
      " [[1 1 1]\n",
      " [1 1 1]\n",
      " [1 1 1]]\n"
     ]
    }
   ],
   "source": [
    "'''numpy.tri(R, C = None, k = 0, dtype = ‘float’) : Creates an array with 1’s at and below the given diagonal(about k) \\\n",
    "and 0’s elsewhere.\n",
    "Parameters :\n",
    "\n",
    "R     : Number of rows\n",
    "C     : [optional] Number of columns; By default R = C\n",
    "k     : [int, optional, 0 by default]\n",
    "               Diagonal we require; k>0 means diagonal above main diagonal or vice versa.\n",
    "dtype : [optional, float(byDefault)] Data type of returned array.  \n",
    "'''\n",
    "import numpy as np\n",
    "a=np.tri(3,3,dtype=int)  # k=0\n",
    "print(a)\n",
    "a=np.tri(3,3,-1,dtype=int)  #k=-1\n",
    "print(\"\\n\",a)\n",
    "a=np.tri(3,3,-2,dtype=int)  #k=-2\n",
    "print(\"\\n\",a)\n",
    "a=np.tri(3,3,1,dtype=int)  #k=1\n",
    "print(\"\\n\",a)\n",
    "a=np.tri(3,3,2,dtype=int)  #k=2\n",
    "print(\"\\n\",a)"
   ]
  },
  {
   "cell_type": "code",
   "execution_count": null,
   "id": "50d7a2e3",
   "metadata": {},
   "outputs": [],
   "source": [
    "# triu(input array,value of k(default=0))  :   Returns copy of array with upper part of the triangle w.r.t k\n",
    "import numpy as np\n",
    "a=[[1, 21, 30], \n",
    "    [63 ,434, 3], \n",
    "    [54, 54, 56]]\n",
    "u_array=np.triu(a,k=0 ) \n",
    "print(u_array)\n",
    "u_array1=np.triu(a,k=1) \n",
    "print(\"\\n\",u_array1)\n",
    "u_array2=np.triu(a,k=2) \n",
    "print(\"\\n\",u_array2)\n",
    "u_array3=np.triu(a,k=-1) \n",
    "print(\"\\n\",u_array3)\n"
   ]
  },
  {
   "cell_type": "code",
   "execution_count": 35,
   "id": "00790819",
   "metadata": {},
   "outputs": [
    {
     "name": "stdout",
     "output_type": "stream",
     "text": [
      "[[  1   0   0]\n",
      " [ 63 434   0]\n",
      " [ 54  54  56]]\n",
      "\n",
      " [[ 0  0  0]\n",
      " [63  0  0]\n",
      " [54 54  0]]\n",
      "\n",
      " [[ 0  0  0]\n",
      " [ 0  0  0]\n",
      " [54  0  0]]\n",
      "\n",
      " [[  1  21   0]\n",
      " [ 63 434   3]\n",
      " [ 54  54  56]]\n",
      "\n",
      " [[  1  21  30]\n",
      " [ 63 434   3]\n",
      " [ 54  54  56]]\n"
     ]
    }
   ],
   "source": [
    "'''numpy.tril(a, k=0) : Returns copy of array with lower part of the triangle w.r.t k\n",
    "a : input array\n",
    "k : [int, optional, 0 by default]\n",
    "          Diagonal we require; k>0 means diagonal above main diagonal or vice versa.'''\n",
    "import numpy as np\n",
    "a=[[1, 21, 30], \n",
    "    [63 ,434, 3], \n",
    "    [54, 54, 56]]\n",
    "a1=np.tril(a,k=0 )\n",
    "print(a1)\n",
    "a1=np.tril(a,k=-1 )\n",
    "print(\"\\n\",a1)\n",
    "a1=np.tril(a,k=-2 )\n",
    "print(\"\\n\",a1)\n",
    "a1=np.tril(a,k=1 )\n",
    "print(\"\\n\",a1)\n",
    "a1=np.tril(a,k=2 )\n",
    "print(\"\\n\",a1)"
   ]
  },
  {
   "cell_type": "code",
   "execution_count": null,
   "id": "2b08d4b0",
   "metadata": {},
   "outputs": [],
   "source": []
  }
 ],
 "metadata": {
  "kernelspec": {
   "display_name": "Python 3 (ipykernel)",
   "language": "python",
   "name": "python3"
  },
  "language_info": {
   "codemirror_mode": {
    "name": "ipython",
    "version": 3
   },
   "file_extension": ".py",
   "mimetype": "text/x-python",
   "name": "python",
   "nbconvert_exporter": "python",
   "pygments_lexer": "ipython3",
   "version": "3.9.7"
  }
 },
 "nbformat": 4,
 "nbformat_minor": 5
}
